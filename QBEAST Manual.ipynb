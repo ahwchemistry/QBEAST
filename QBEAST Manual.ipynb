{
 "cells": [
  {
   "cell_type": "markdown",
   "metadata": {},
   "source": [
    "# QBEAST, an enhanced algorithm for determining the distance of samples from a training set.\n",
    "\n",
    "QBEST is an algorithm that allows one to determine what the distance between a sample set of data and a training set of data. In other alrogithms, having such a small training set can lead to every test spectrum being an outlier.\n",
    "\n",
    "QBEAST function will take in a training set, along with a test set, and will return SDS and SDSKEW, which are measurements of distance between the two sets of data."
   ]
  },
  {
   "cell_type": "code",
   "execution_count": 60,
   "metadata": {},
   "outputs": [],
   "source": [
    "from scipy import genfromtxt\n",
    "from Bootstrap import Bootstrap\n",
    "import numpy as np\n",
    "from math import sqrt\n",
    "from numpy import matlib\n",
    "from copy import deepcopy\n",
    "from scipy.stats import norm\n",
    "from scipy.spatial.distance import mahalanobis\n",
    "from sklearn.decomposition import PCA\n",
    "import matplotlib.pyplot as plt\n",
    "from mpl_toolkits.mplot3d import Axes3D\n",
    "from QBEST import QBEAST\n",
    "from random import randint"
   ]
  },
  {
   "cell_type": "code",
   "execution_count": 54,
   "metadata": {},
   "outputs": [
    {
     "name": "stdout",
     "output_type": "stream",
     "text": [
      "[[ 0.5377  1.8339 -2.2588  0.8622  0.3188 -1.3077 -0.4336  0.3426  3.5784\n",
      "   2.7694  0.8404 -0.888   0.1001 -0.5445  0.3035 -0.6003  0.49    0.7394\n",
      "   1.7119 -0.1941]\n",
      " [-1.3499  3.0349  0.7254 -0.0631  0.7147 -0.205  -0.1241  1.4897  1.409\n",
      "   1.4172 -2.1384 -0.8396  1.3546 -1.0722  0.961   0.124   1.4367 -1.9609\n",
      "  -0.1977 -1.2078]\n",
      " [ 0.6715 -1.2075  0.7172  1.6302  0.4889  1.0347  0.7269 -0.3034  0.2939\n",
      "  -0.7873  2.908   0.8252  1.379  -1.0582 -0.4686 -0.2725  1.0984 -0.2779\n",
      "   0.7015 -2.0518]\n",
      " [ 0.8884 -1.1471 -1.0689 -0.8095 -2.9443  1.4384  0.3252 -0.7549  1.3703\n",
      "  -1.7115 -0.3538 -0.8236 -1.5771  0.508   0.282   0.0335 -1.3337  1.1275\n",
      "   0.3502 -0.2991]\n",
      " [-0.1022 -0.2414  0.3192  0.3129 -0.8649 -0.0301 -0.1649  0.6277  1.0933\n",
      "   1.1093  0.0229 -0.262  -1.7502 -0.2857 -0.8314 -0.9792 -1.1564 -0.5336\n",
      "  -2.0026  0.9642]\n",
      " [-0.8637  0.0774 -1.2141 -1.1135 -0.0068  1.5326 -0.7697  0.3714 -0.2256\n",
      "   1.1174  0.5201 -0.02   -0.0348 -0.7982  1.0187 -0.1332 -0.7145  1.3514\n",
      "  -0.2248 -0.589 ]\n",
      " [-1.0891  0.0326  0.5525  1.1006  1.5442  0.0859 -1.4916 -0.7423 -1.0616\n",
      "   2.3505 -0.2938 -0.8479 -1.1201  2.526   1.6555  0.3075 -1.2571 -0.8655\n",
      "  -0.1765  0.7914]\n",
      " [-0.6156  0.7481 -0.1924  0.8886 -0.7648 -1.4023 -1.4224  0.4882 -0.1774\n",
      "  -0.1961 -1.332  -2.3299 -1.4491  0.3335  0.3914  0.4517 -0.1303  0.1837\n",
      "  -0.4762  0.862 ]\n",
      " [ 1.4193  0.2916  0.1978  1.5877 -0.8045  0.6966  0.8351 -0.2437  0.2157\n",
      "  -1.1658 -1.3617  0.455  -0.8487 -0.3349  0.5528  1.0391 -1.1176  1.2607\n",
      "   0.6601 -0.0679]\n",
      " [-1.148   0.1049  0.7223  2.5855 -0.6669  0.1873 -0.0825 -1.933  -0.439\n",
      "  -1.7947 -0.1952 -0.2176 -0.3031  0.023   0.0513  0.8261  1.527   0.4669\n",
      "  -0.2097  0.6252]]\n",
      "[10.  0.  0.  0.  0.  0.  0.  0.  0.  0.  0.  0.  0.  0.  0.  0.  0.  0.\n",
      "  0.  0.]\n"
     ]
    }
   ],
   "source": [
    "tnspec = genfromtxt(\"tnspec.csv\",delimiter=\",\").T\n",
    "newspec = genfromtxt(\"newspec.csv\",delimiter=\",\")\n",
    "\n",
    "print(tnspec)\n",
    "print(newspec)"
   ]
  },
  {
   "cell_type": "markdown",
   "metadata": {},
   "source": [
    "# Looking at mahalanobis\n",
    "\n",
    "Lets take a loot at a sample set of data using a 10x20 matrix."
   ]
  },
  {
   "cell_type": "code",
   "execution_count": 75,
   "metadata": {},
   "outputs": [
    {
     "name": "stdout",
     "output_type": "stream",
     "text": [
      "667220592.532741\n"
     ]
    }
   ],
   "source": [
    "vi = np.linalg.inv(np.cov(tnspec.T))\n",
    "colmean = np.mean(tnspec,0)\n",
    "print(mahalanobis(colmean,newspec,vi))"
   ]
  },
  {
   "cell_type": "markdown",
   "metadata": {},
   "source": [
    "# Looking at QBEST"
   ]
  },
  {
   "cell_type": "markdown",
   "metadata": {},
   "source": [
    "Now, lets see if we can determine a more appropriate distance between the two sets of data."
   ]
  },
  {
   "cell_type": "code",
   "execution_count": 57,
   "metadata": {},
   "outputs": [],
   "source": [
    "sds, sdskew = QBEAST(tnspec,newspec)"
   ]
  },
  {
   "cell_type": "code",
   "execution_count": 58,
   "metadata": {},
   "outputs": [
    {
     "name": "stdout",
     "output_type": "stream",
     "text": [
      "25.524260582146162 10.177075386901555\n"
     ]
    }
   ],
   "source": [
    "print(sds, sdskew)"
   ]
  },
  {
   "cell_type": "markdown",
   "metadata": {},
   "source": [
    "Lets make a newspec from data taken from the original training set to see if the sds decreases.\n"
   ]
  },
  {
   "cell_type": "code",
   "execution_count": 73,
   "metadata": {},
   "outputs": [
    {
     "name": "stdout",
     "output_type": "stream",
     "text": [
      "[-0.7145, 0.8404, 1.5442, 0.8622, -2.0026, -0.3349, -0.1241, -1.1658, -0.7549, 0.6601, -1.1471, 0.5377, -0.7648, -0.0301, 1.1006, 0.7015, 1.7119, 1.409, -0.2097, 0.1049]\n"
     ]
    }
   ],
   "source": [
    "sample = []\n",
    "for i in range(len(tnspec[0])):\n",
    "    sample.append(tnspec[randint(0,9)][randint(0,19)])\n",
    "print(sample)"
   ]
  },
  {
   "cell_type": "code",
   "execution_count": 74,
   "metadata": {},
   "outputs": [
    {
     "name": "stdout",
     "output_type": "stream",
     "text": [
      "4.152186641488899 1.678534713457381\n"
     ]
    }
   ],
   "source": [
    "sds, sdskew = QBEAST(tnspec,sample)\n",
    "print(sds, sdskew)"
   ]
  },
  {
   "cell_type": "markdown",
   "metadata": {},
   "source": [
    "# Potential Errors\n",
    "## 1. Placing in a newspec that does not meet dimension requirements"
   ]
  },
  {
   "cell_type": "code",
   "execution_count": 78,
   "metadata": {},
   "outputs": [
    {
     "ename": "ValueError",
     "evalue": "operands could not be broadcast together with shapes (8,) (20,) ",
     "output_type": "error",
     "traceback": [
      "\u001b[1;31m---------------------------------------------------------------------------\u001b[0m",
      "\u001b[1;31mValueError\u001b[0m                                Traceback (most recent call last)",
      "\u001b[1;32m<ipython-input-78-ccd4faf20cf3>\u001b[0m in \u001b[0;36m<module>\u001b[1;34m()\u001b[0m\n\u001b[0;32m      1\u001b[0m \u001b[0mtest\u001b[0m \u001b[1;33m=\u001b[0m \u001b[1;33m[\u001b[0m\u001b[1;36m1\u001b[0m\u001b[1;33m,\u001b[0m\u001b[1;36m1\u001b[0m\u001b[1;33m,\u001b[0m\u001b[1;36m1\u001b[0m\u001b[1;33m,\u001b[0m\u001b[1;36m1\u001b[0m\u001b[1;33m,\u001b[0m\u001b[1;36m1\u001b[0m\u001b[1;33m,\u001b[0m\u001b[1;36m1\u001b[0m\u001b[1;33m,\u001b[0m\u001b[1;36m1\u001b[0m\u001b[1;33m,\u001b[0m\u001b[1;36m1\u001b[0m\u001b[1;33m]\u001b[0m\u001b[1;33m\u001b[0m\u001b[0m\n\u001b[1;32m----> 2\u001b[1;33m \u001b[0msds\u001b[0m\u001b[1;33m,\u001b[0m \u001b[0msdskew\u001b[0m \u001b[1;33m=\u001b[0m \u001b[0mQBEAST\u001b[0m\u001b[1;33m(\u001b[0m\u001b[0mtnspec\u001b[0m\u001b[1;33m,\u001b[0m\u001b[0mtest\u001b[0m\u001b[1;33m)\u001b[0m\u001b[1;33m\u001b[0m\u001b[0m\n\u001b[0m",
      "\u001b[1;32m~\\OneDrive - University of Kentucky\\SciPy Course\\QBEST\\QBEST.py\u001b[0m in \u001b[0;36mQBEAST\u001b[1;34m(tnspec, newspec)\u001b[0m\n\u001b[0;32m     33\u001b[0m     \u001b[0mSENSITIV\u001b[0m \u001b[1;33m=\u001b[0m \u001b[1;36m.01\u001b[0m\u001b[1;33m\u001b[0m\u001b[0m\n\u001b[0;32m     34\u001b[0m \u001b[1;33m\u001b[0m\u001b[0m\n\u001b[1;32m---> 35\u001b[1;33m     \u001b[0mresiduals\u001b[0m \u001b[1;33m=\u001b[0m \u001b[0mnp\u001b[0m\u001b[1;33m.\u001b[0m\u001b[0msubtract\u001b[0m\u001b[1;33m(\u001b[0m\u001b[0mnewspec\u001b[0m\u001b[1;33m,\u001b[0m\u001b[0mCNTER\u001b[0m\u001b[1;33m.\u001b[0m\u001b[0mT\u001b[0m\u001b[1;33m)\u001b[0m\u001b[1;33m\u001b[0m\u001b[0m\n\u001b[0m\u001b[0;32m     36\u001b[0m \u001b[1;33m\u001b[0m\u001b[0m\n\u001b[0;32m     37\u001b[0m     \u001b[0mSO2\u001b[0m \u001b[1;33m=\u001b[0m \u001b[0mnp\u001b[0m\u001b[1;33m.\u001b[0m\u001b[0msqrt\u001b[0m\u001b[1;33m(\u001b[0m\u001b[0mnp\u001b[0m\u001b[1;33m.\u001b[0m\u001b[0msum\u001b[0m\u001b[1;33m(\u001b[0m\u001b[1;33m(\u001b[0m\u001b[0mnp\u001b[0m\u001b[1;33m.\u001b[0m\u001b[0msum\u001b[0m\u001b[1;33m(\u001b[0m\u001b[0mresiduals\u001b[0m\u001b[1;33m**\u001b[0m\u001b[1;36m2\u001b[0m\u001b[1;33m,\u001b[0m\u001b[0maxis\u001b[0m\u001b[1;33m=\u001b[0m\u001b[1;36m0\u001b[0m\u001b[1;33m)\u001b[0m\u001b[1;33m)\u001b[0m\u001b[1;33m)\u001b[0m\u001b[1;33m)\u001b[0m\u001b[1;33m\u001b[0m\u001b[0m\n",
      "\u001b[1;31mValueError\u001b[0m: operands could not be broadcast together with shapes (8,) (20,) "
     ]
    }
   ],
   "source": [
    "test = [1,1,1,1,1,1,1,1]\n",
    "sds, sdskew = QBEAST(tnspec,test)"
   ]
  },
  {
   "cell_type": "code",
   "execution_count": null,
   "metadata": {},
   "outputs": [],
   "source": []
  }
 ],
 "metadata": {
  "kernelspec": {
   "display_name": "Python 3",
   "language": "python",
   "name": "python3"
  },
  "language_info": {
   "codemirror_mode": {
    "name": "ipython",
    "version": 3
   },
   "file_extension": ".py",
   "mimetype": "text/x-python",
   "name": "python",
   "nbconvert_exporter": "python",
   "pygments_lexer": "ipython3",
   "version": "3.6.4"
  }
 },
 "nbformat": 4,
 "nbformat_minor": 2
}
